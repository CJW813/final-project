{
 "cells": [
  {
   "cell_type": "markdown",
   "metadata": {},
   "source": [
    "# Project: a simple DC tax calculator\n",
    "## biof309/spring2020\n",
    "## Chao-Jung Wu\n",
    "\n",
    "### Motivation:\n",
    "This is my first time filing US tax and the tax system is Soooooo complicated.  It would be great to have a simple tax calculater.\n",
    "Note: this DC tax calculater is just for fun!\n",
    "\n",
    "### Usage:\n",
    "You just need to enter your name, gross income, marital status, are you blind or over 65 years old, then you will get a number showing the tax you need to pay.\n",
    "\n",
    "### Instruction:\n",
    "name: Please enter your name.\n",
    "    \n",
    "gross income: Please enter your gross income.  Which should be a number >= 0\n",
    "    \n",
    "marital status: Please enter either \"Single\" or \"Married\" (Case sensitive)\n",
    "\n",
    "blind: If you AND your spouse are blind, please enter \"2\"; if you OR your spouse are blind, please enter \"1\"; else please enter \"0\"\n",
    "\n",
    "over 65: If you AND your spouse are over 65, please enter \"2\"; if you OR your spouse are over 65, please enter \"1\"; else please enter \"0\"\n",
    "\n",
    "#### Please noted that all of the information you entered are separated by SPACE.\n",
    "\n",
    "### Example:\n",
    "John is a 65 lonely old man.  He is not blind and his gross income is $50000.\n",
    "John should enter:\n",
    "    \n",
    "John 50000 Single 0 1"
   ]
  },
  {
   "cell_type": "code",
   "execution_count": 147,
   "metadata": {
    "jupyter": {
     "source_hidden": true
    }
   },
   "outputs": [
    {
     "name": "stdin",
     "output_type": "stream",
     "text": [
      "please enter your name, income, marital status, blind, and over_65:  CJ 7000 Single 0 0\n"
     ]
    },
    {
     "name": "stdout",
     "output_type": "stream",
     "text": [
      "My name is CJ\n",
      "My income is $ 7000\n",
      "I am Single\n",
      "The number of blind people is 0\n",
      "The number of people >= 65 is 0\n",
      "Please double check the above information are correct.\n"
     ]
    }
   ],
   "source": [
    "name, income, marital_status, blind, over_65=input(\"please enter your name, income, marital status, blind, and over_65: \").split()\n",
    "print(\"My name is\", name)\n",
    "# the number of income should >= 0\n",
    "income=int(income)\n",
    "if type(income)==int and income>=0:\n",
    "    print(\"My income is $\", income)\n",
    "else:\n",
    "    print(\"Please enter income number >= 0.\")\n",
    "# limit the marital status to be single or married (accept single or married)\n",
    "if marital_status==\"Single\" or marital_status==\"Married\" or marital_status==\"single\" or marital_status==\"married\":\n",
    "    print(\"I am\", marital_status)\n",
    "else:\n",
    "    print(\"Please let me know if you are single or married.\")\n",
    "# if single, the number of blind people should be 0 or 1; if married, the number of blind people should be 0 or 1 or 2.\n",
    "blind=int(blind)\n",
    "if marital_status==\"Single\" and (blind ==0 or blind ==1):\n",
    "    print(\"The number of blind people is\", blind)\n",
    "elif marital_status==\"Married\" and (blind==0 or blind==1 or blind==2):\n",
    "    print(\"The number of blind people is\", blind)\n",
    "elif marital_status==\"Single\" and blind > 1:\n",
    "    print(\"Warning: Are you sure you are single?\")\n",
    "elif marital_status==\"Married\" and blind > 2:\n",
    "    print(\"Warning: Multiple spouse is not allowed...\")\n",
    "else:\n",
    "    print(\"Please enter the number of blind people.\")\n",
    "# if single, the number of people >= 65 should be 0 or 1; if married, the number of people >= 65 should be 0 or 1 or 2.\n",
    "over_65=int(over_65)\n",
    "if marital_status==\"Single\" and (over_65 ==0 or over_65 ==1):\n",
    "    print(\"The number of people >= 65 is\", over_65)\n",
    "elif marital_status==\"Married\" and (over_65==0 or over_65==1 or over_65==2):\n",
    "    print(\"The number of people >= 65 is\", over_65)\n",
    "elif marital_status==\"Single\" and over_65 > 1:\n",
    "    print(\"Warning: Are you sure you are single?\")\n",
    "elif marital_status==\"Married\" and over_65 > 2:\n",
    "    print(\"Warning: Multiple spouse is not allowed...\")\n",
    "else:\n",
    "    print(\"Please enter the number of people >= 65.\")\n",
    "print (\"Please double check the above information are correct.\")"
   ]
  },
  {
   "cell_type": "code",
   "execution_count": 148,
   "metadata": {
    "jupyter": {
     "source_hidden": true
    }
   },
   "outputs": [
    {
     "name": "stdout",
     "output_type": "stream",
     "text": [
      "Congrats! CJ ! You don't need to pay tax!\n"
     ]
    }
   ],
   "source": [
    "class TAX:\n",
    "    \"\"\"Simple tax calculator.\n",
    "    \n",
    "    Attributes:\n",
    "\n",
    "        addi_stand_deduc_rate: additional standard deduction if you and/or spouse are blind and/or over 65\n",
    "        addi_stand_deduc_single: additional standard deduction amount, $1650 * addi_stand_deduc_rate_single\n",
    "        addi_stand_deduc_married: additional standard deduction amount, $1300 * addi_stand_deduc_rate_married\n",
    "        taxable_income: estimated taxable income\n",
    "        tax: estimated tax you need to pay\n",
    "        \n",
    "    \"\"\"\n",
    "    # define variables\n",
    "    def __init__ (self, name, income, marital_status, blind, over_65):\n",
    "        self.name=name\n",
    "        self.income=int(income)\n",
    "        self.marital_status=marital_status\n",
    "        self.blind=int(blind)\n",
    "        self.over_65=int(over_65)\n",
    "        # calculate deductable income\n",
    "        self.__class__.addi_stand_deduc_rate=(self.blind + self.over_65)\n",
    "        self.__class__.addi_stand_deduc_single=1650 * self.__class__.addi_stand_deduc_rate\n",
    "        self.__class__.addi_stand_deduc_married=1300 * self.__class__.addi_stand_deduc_rate\n",
    "        # the standard deduction is $12400 if single and $24800 if married\n",
    "        if marital_status== (\"Single\" or \"single\"):\n",
    "            self.__class__.taxable_income= (self.income-12400-self.__class__.addi_stand_deduc_single)\n",
    "        else:\n",
    "            self.__class__.taxable_income= (self.income-24800-self.__class__.addi_stand_deduc_married)\n",
    "        # calculate tax (follow DC tax rate table)\n",
    "        if self.__class__.taxable_income < 10000:\n",
    "            self.__class__.tax=self.__class__.taxable_income * 0.04\n",
    "        elif 10000 <= self.__class__.taxable_income < 40000:\n",
    "            self.__class__.tax=400 + (self.__class__.taxable_income-10000)*0.06\n",
    "        elif 40000 <= self.__class__.taxable_income < 60000:\n",
    "            self.__class__.tax=2200 + (self.__class__.taxable_income-40000)*0.065\n",
    "        elif 60000 <= self.__class__.taxable_income < 350000:\n",
    "            self.__class__.tax=3500 + (self.__class__.taxable_income-60000)*0.085\n",
    "        elif 350000 <= self.__class__.taxable_income < 1000000:\n",
    "            self.__class__.tax=28150 + (self.__class__.taxable_income-350000)*0.0875\n",
    "        else:\n",
    "            self.__class__.tax=85025 + (self.__class__.taxable_income-1000000)*0.0895\n",
    "\n",
    "Final_tax=TAX(name, income, marital_status, blind, over_65)\n",
    "# the tax you need to pay should >= 0\n",
    "if Final_tax.tax < 0:\n",
    "    print(\"Congrats!\", Final_tax.name, \"! You don't need to pay tax!\")\n",
    "elif Final_tax.marital_status==\"Married\":\n",
    "    print(Final_tax.name, \"and his/her spouse need to pay $\", Final_tax.tax)\n",
    "else:\n",
    "    print(Final_tax.name, \"needs to pay $\", Final_tax.tax)"
   ]
  },
  {
   "cell_type": "markdown",
   "metadata": {},
   "source": [
    "### Make tables and figures for tax payer\n",
    "#### In this calculator, if you are single, there are 4 combinations (blind +/- * over_65 +/-) and three values (0-2).\n",
    "#### In this calculator, if you are married, there are 9 combinations blind (0, 1, 2) * over_65 (0, 1, 2) and five values (0-4)\n",
    "#### Make a table and a figure to show the tax you need to pay in every condition when your income is below $100000."
   ]
  },
  {
   "cell_type": "code",
   "execution_count": 135,
   "metadata": {},
   "outputs": [],
   "source": [
    "import pandas as pd\n",
    "import matplotlib.pyplot as plt"
   ]
  },
  {
   "cell_type": "code",
   "execution_count": 143,
   "metadata": {},
   "outputs": [],
   "source": [
    "# There will be too many values...Just calculate the income at the inverval of $100.\n",
    "income_list=list(range(0, 80000, 100))"
   ]
  },
  {
   "cell_type": "code",
   "execution_count": 144,
   "metadata": {
    "jupyter": {
     "source_hidden": true
    }
   },
   "outputs": [],
   "source": [
    "# Use loop to calculate the tax and get the table\n",
    "final_tax_table=pd.DataFrame(columns=[\"S_0\", \"S_1\", \"S_2\", \"M_0\", \"M_1\", \"M_2\", \"M_3\", \"M_4\"])\n",
    "\n",
    "for i in income_list:\n",
    "    # S_0: single deduction $12400\n",
    "    # S_1: single deduction $12400 + additional deduction $1650 = $14050\n",
    "    # S_2: single deduction $12400 + additional deduction $1650*2 = $15700\n",
    "    # M_0: married deduction $24800\n",
    "    # M_1: married deduction $24800 + additional deduction $1300 = $26100\n",
    "    # M_2: married deduction $24800 + additional deduction $1300*2 = $27400\n",
    "    # M_3: married deduction $24800 + additional deduction $1300*3 = $28700\n",
    "    # M_4: married deduction $24800 + additional deduction $1300*4 = $30000\n",
    "    taxable_S_0=i-12400\n",
    "    taxable_S_1=i-14050\n",
    "    taxable_S_2=i-15700\n",
    "    taxable_M_0=i-24800\n",
    "    taxable_M_1=i-26100\n",
    "    taxable_M_2=i-27400\n",
    "    taxable_M_3=i-28700\n",
    "    taxable_M_4=i-30000\n",
    "    \n",
    "    # the second loop\n",
    "    taxable_loop=[taxable_S_0, taxable_S_1, taxable_S_2, taxable_M_0, taxable_M_1, taxable_M_2, taxable_M_3, taxable_M_4]\n",
    "    final_tax_all=[]\n",
    "    for j in taxable_loop:\n",
    "        if j < 0:\n",
    "            final_tax_all.append(0)\n",
    "        else:\n",
    "            if (j<= 10000):\n",
    "                t=j*0.4\n",
    "                final_tax_all.append(t)\n",
    "            elif (10000<j<40000):\n",
    "                t=400 + (j-22400)*0.06\n",
    "                final_tax_all.append(t)\n",
    "            elif (40000<= j <60000):\n",
    "                t=2200 + (j-40000)*0.065\n",
    "                final_tax_all.append(t)\n",
    "            elif (60000<= j <350000):\n",
    "                t=3500 + (j-60000)*0.085\n",
    "                final_tax_all.append(t)\n",
    "            elif (350000<= j <1000000):\n",
    "                t=28150 + (j-350000)*0.0875\n",
    "                final_tax_all.append(t)\n",
    "            else:\n",
    "                t=85025 + (j-1000000)*0.0895\n",
    "                final_tax_all.append(t)\n",
    "    df_append=pd.DataFrame([final_tax_all], columns=[\"S_0\", \"S_1\", \"S_2\", \"M_0\", \"M_1\", \"M_2\", \"M_3\", \"M_4\"], index=[i])\n",
    "    final_tax_table=final_tax_table.append(df_append)"
   ]
  },
  {
   "cell_type": "code",
   "execution_count": 145,
   "metadata": {},
   "outputs": [
    {
     "data": {
      "text/html": [
       "<div>\n",
       "<style scoped>\n",
       "    .dataframe tbody tr th:only-of-type {\n",
       "        vertical-align: middle;\n",
       "    }\n",
       "\n",
       "    .dataframe tbody tr th {\n",
       "        vertical-align: top;\n",
       "    }\n",
       "\n",
       "    .dataframe thead th {\n",
       "        text-align: right;\n",
       "    }\n",
       "</style>\n",
       "<table border=\"1\" class=\"dataframe\">\n",
       "  <thead>\n",
       "    <tr style=\"text-align: right;\">\n",
       "      <th></th>\n",
       "      <th>S_0</th>\n",
       "      <th>S_1</th>\n",
       "      <th>S_2</th>\n",
       "      <th>M_0</th>\n",
       "      <th>M_1</th>\n",
       "      <th>M_2</th>\n",
       "      <th>M_3</th>\n",
       "      <th>M_4</th>\n",
       "    </tr>\n",
       "  </thead>\n",
       "  <tbody>\n",
       "    <tr>\n",
       "      <td>0</td>\n",
       "      <td>0</td>\n",
       "      <td>0</td>\n",
       "      <td>0</td>\n",
       "      <td>0</td>\n",
       "      <td>0</td>\n",
       "      <td>0</td>\n",
       "      <td>0</td>\n",
       "      <td>0</td>\n",
       "    </tr>\n",
       "    <tr>\n",
       "      <td>100</td>\n",
       "      <td>0</td>\n",
       "      <td>0</td>\n",
       "      <td>0</td>\n",
       "      <td>0</td>\n",
       "      <td>0</td>\n",
       "      <td>0</td>\n",
       "      <td>0</td>\n",
       "      <td>0</td>\n",
       "    </tr>\n",
       "    <tr>\n",
       "      <td>200</td>\n",
       "      <td>0</td>\n",
       "      <td>0</td>\n",
       "      <td>0</td>\n",
       "      <td>0</td>\n",
       "      <td>0</td>\n",
       "      <td>0</td>\n",
       "      <td>0</td>\n",
       "      <td>0</td>\n",
       "    </tr>\n",
       "    <tr>\n",
       "      <td>300</td>\n",
       "      <td>0</td>\n",
       "      <td>0</td>\n",
       "      <td>0</td>\n",
       "      <td>0</td>\n",
       "      <td>0</td>\n",
       "      <td>0</td>\n",
       "      <td>0</td>\n",
       "      <td>0</td>\n",
       "    </tr>\n",
       "    <tr>\n",
       "      <td>400</td>\n",
       "      <td>0</td>\n",
       "      <td>0</td>\n",
       "      <td>0</td>\n",
       "      <td>0</td>\n",
       "      <td>0</td>\n",
       "      <td>0</td>\n",
       "      <td>0</td>\n",
       "      <td>0</td>\n",
       "    </tr>\n",
       "    <tr>\n",
       "      <td>...</td>\n",
       "      <td>...</td>\n",
       "      <td>...</td>\n",
       "      <td>...</td>\n",
       "      <td>...</td>\n",
       "      <td>...</td>\n",
       "      <td>...</td>\n",
       "      <td>...</td>\n",
       "      <td>...</td>\n",
       "    </tr>\n",
       "    <tr>\n",
       "      <td>79500</td>\n",
       "      <td>4103.5</td>\n",
       "      <td>3963.25</td>\n",
       "      <td>3823</td>\n",
       "      <td>3155.5</td>\n",
       "      <td>3071</td>\n",
       "      <td>2986.5</td>\n",
       "      <td>2902</td>\n",
       "      <td>2817.5</td>\n",
       "    </tr>\n",
       "    <tr>\n",
       "      <td>79600</td>\n",
       "      <td>4112</td>\n",
       "      <td>3971.75</td>\n",
       "      <td>3831.5</td>\n",
       "      <td>3162</td>\n",
       "      <td>3077.5</td>\n",
       "      <td>2993</td>\n",
       "      <td>2908.5</td>\n",
       "      <td>2824</td>\n",
       "    </tr>\n",
       "    <tr>\n",
       "      <td>79700</td>\n",
       "      <td>4120.5</td>\n",
       "      <td>3980.25</td>\n",
       "      <td>3840</td>\n",
       "      <td>3168.5</td>\n",
       "      <td>3084</td>\n",
       "      <td>2999.5</td>\n",
       "      <td>2915</td>\n",
       "      <td>2830.5</td>\n",
       "    </tr>\n",
       "    <tr>\n",
       "      <td>79800</td>\n",
       "      <td>4129</td>\n",
       "      <td>3988.75</td>\n",
       "      <td>3848.5</td>\n",
       "      <td>3175</td>\n",
       "      <td>3090.5</td>\n",
       "      <td>3006</td>\n",
       "      <td>2921.5</td>\n",
       "      <td>2837</td>\n",
       "    </tr>\n",
       "    <tr>\n",
       "      <td>79900</td>\n",
       "      <td>4137.5</td>\n",
       "      <td>3997.25</td>\n",
       "      <td>3857</td>\n",
       "      <td>3181.5</td>\n",
       "      <td>3097</td>\n",
       "      <td>3012.5</td>\n",
       "      <td>2928</td>\n",
       "      <td>2843.5</td>\n",
       "    </tr>\n",
       "  </tbody>\n",
       "</table>\n",
       "<p>800 rows × 8 columns</p>\n",
       "</div>"
      ],
      "text/plain": [
       "          S_0      S_1     S_2     M_0     M_1     M_2     M_3     M_4\n",
       "0           0        0       0       0       0       0       0       0\n",
       "100         0        0       0       0       0       0       0       0\n",
       "200         0        0       0       0       0       0       0       0\n",
       "300         0        0       0       0       0       0       0       0\n",
       "400         0        0       0       0       0       0       0       0\n",
       "...       ...      ...     ...     ...     ...     ...     ...     ...\n",
       "79500  4103.5  3963.25    3823  3155.5    3071  2986.5    2902  2817.5\n",
       "79600    4112  3971.75  3831.5    3162  3077.5    2993  2908.5    2824\n",
       "79700  4120.5  3980.25    3840  3168.5    3084  2999.5    2915  2830.5\n",
       "79800    4129  3988.75  3848.5    3175  3090.5    3006  2921.5    2837\n",
       "79900  4137.5  3997.25    3857  3181.5    3097  3012.5    2928  2843.5\n",
       "\n",
       "[800 rows x 8 columns]"
      ]
     },
     "execution_count": 145,
     "metadata": {},
     "output_type": "execute_result"
    }
   ],
   "source": [
    "final_tax_table"
   ]
  },
  {
   "cell_type": "code",
   "execution_count": 146,
   "metadata": {},
   "outputs": [
    {
     "data": {
      "text/plain": [
       "<matplotlib.axes._subplots.AxesSubplot at 0x10c801190>"
      ]
     },
     "execution_count": 146,
     "metadata": {},
     "output_type": "execute_result"
    },
    {
     "data": {
      "image/png": "[encoded data removed]",
      "text/plain": [
       "<Figure size 432x288 with 1 Axes>"
      ]
     },
     "metadata": {
      "needs_background": "light"
     },
     "output_type": "display_data"
    }
   ],
   "source": [
    "final_tax_table.plot.bar(width=2)"
   ]
  },
  {
   "cell_type": "code",
   "execution_count": null,
   "metadata": {},
   "outputs": [],
   "source": []
  }
 ],
 "metadata": {
  "kernelspec": {
   "display_name": "Python 3",
   "language": "python",
   "name": "python3"
  },
  "language_info": {
   "codemirror_mode": {
    "name": "ipython",
    "version": 3
   },
   "file_extension": ".py",
   "mimetype": "text/x-python",
   "name": "python",
   "nbconvert_exporter": "python",
   "pygments_lexer": "ipython3",
   "version": "3.7.4"
  }
 },
 "nbformat": 4,
 "nbformat_minor": 4
}
